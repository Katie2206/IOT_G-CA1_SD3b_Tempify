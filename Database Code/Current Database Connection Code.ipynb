{
 "cells": [
  {
   "cell_type": "code",
   "execution_count": null,
   "metadata": {},
   "outputs": [],
   "source": [
    "import pymysql\n",
    "import mysql.connector\n",
    "\n",
    "ENDPOINT = 'tempify-database.cls2ygsysfhs.eu-north-1.rds.amazonaws.com'\n",
    "PORT = 3306\n",
    "USER = 'admin'\n",
    "PASSWORD = 'asdfghjklt-ghniuhgvcwetyiops-dcvnhjhfd2'\n",
    "DATABASE_NAME = 'Tempify'\n",
    "\n",
    "try:\n",
    "    connection = pymsql.connect(\n",
    "        host = ENDPOINT,\n",
    "        port = PORT,\n",
    "        user =USER,\n",
    "        password = PASSWORD,\n",
    "        database = DATABASE_NAME\n",
    "    )\n",
    "except Exception as e:\n",
    "    print(\"Database Connection Failed Due To: {}.\".format(e))"
   ]
  }
 ],
 "metadata": {
  "language_info": {
   "name": "python"
  }
 },
 "nbformat": 4,
 "nbformat_minor": 2
}
